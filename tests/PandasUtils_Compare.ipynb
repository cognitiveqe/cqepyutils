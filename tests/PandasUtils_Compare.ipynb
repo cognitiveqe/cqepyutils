{
 "cells": [
  {
   "cell_type": "code",
   "execution_count": 1,
   "metadata": {},
   "outputs": [],
   "source": [
    "from PandasUtils import PandasUtils as cpd\n",
    "import pandas as pd\n",
    "import time"
   ]
  },
  {
   "cell_type": "code",
   "execution_count": 2,
   "metadata": {},
   "outputs": [],
   "source": [
    "start = time.time()\n",
    "actual_file_path = r'C://Desktop//Comparison//data//actual//'\n",
    "expected_file_path = r'C://Desktop//Comparison//data//baseline//'"
   ]
  },
  {
   "cell_type": "code",
   "execution_count": 3,
   "metadata": {},
   "outputs": [],
   "source": [
    "actual_file_name = '500000_Sales_Records'\n",
    "expected_file_name = '500000_Sales_Records_copy'\n",
    "file_format = 'csv'\n",
    "key_columns = ['Region', 'Country', 'Item Type', 'Sales Channel', 'Order Priority', 'Order Date']\n",
    "ignore_columns = []"
   ]
  },
  {
   "cell_type": "code",
   "execution_count": 4,
   "metadata": {},
   "outputs": [
    {
     "name": "stderr",
     "output_type": "stream",
     "text": [
      "****************************************************************************************************\n",
      "PandasUtil Data Frame Comparison - Cell by Cell comparison with detailed mismatch report\n",
      "****************************************************************************************************\n",
      "Step-01 : Based on file format create the df with delimiter(sep)\n",
      "Step-02 : Create the summary df based on count of rows and identify the count diff\n",
      "Step-03 : Remove the columns based on ignore columns list\n",
      "Step-04 : Sort the df1 and df2 based on key columns and reset the index\n",
      "Step-05 : Identify the rows matching based on key in both df1 and df2\n",
      "Step-06 : Create the summary df based on key columns\n",
      "Step-07 : Remove the mismatched key values and proceed further in validation\n",
      "Step-08 : Started cell by cell comparison for key values that exist in both df1 and df2\n",
      "Step-09 : Verify column data types in both the files, if not convert based on actual\n",
      "Step-10 : Verify cell by cell data in both the data frame and generate mismatch report\n",
      "          Failed : Cell by Cell comparison ..Started to extract mismatched column values\n",
      "Step-11 : Comparison completed and generated info for reports(summary, keys mistmach, cell by cell\n",
      "****************************************************************************************************\n"
     ]
    }
   ],
   "source": [
    "summary_df, summary_key_df, key_mismatche_df, cell_cmp_df = cpd.df_diff(actual_file_path, expected_file_path,\n",
    "                                                                        actual_file_name, expected_file_name,\n",
    "                                                                        file_format, key_columns, ignore_columns)"
   ]
  },
  {
   "cell_type": "code",
   "execution_count": 5,
   "metadata": {},
   "outputs": [
    {
     "name": "stdout",
     "output_type": "stream",
     "text": [
      "35.73107624053955\n"
     ]
    },
    {
     "data": {
      "text/html": [
       "<div>\n",
       "<style scoped>\n",
       "    .dataframe tbody tr th:only-of-type {\n",
       "        vertical-align: middle;\n",
       "    }\n",
       "\n",
       "    .dataframe tbody tr th {\n",
       "        vertical-align: top;\n",
       "    }\n",
       "\n",
       "    .dataframe thead th {\n",
       "        text-align: right;\n",
       "    }\n",
       "</style>\n",
       "<table border=\"1\" class=\"dataframe\">\n",
       "  <thead>\n",
       "    <tr style=\"text-align: right;\">\n",
       "      <th></th>\n",
       "      <th>Actual</th>\n",
       "      <th>Expected</th>\n",
       "      <th>Mismatch</th>\n",
       "    </tr>\n",
       "  </thead>\n",
       "  <tbody>\n",
       "    <tr>\n",
       "      <th>0</th>\n",
       "      <td>500000</td>\n",
       "      <td>500000</td>\n",
       "      <td>0</td>\n",
       "    </tr>\n",
       "  </tbody>\n",
       "</table>\n",
       "</div>"
      ],
      "text/plain": [
       "   Actual Expected Mismatch\n",
       "0  500000   500000        0"
      ]
     },
     "execution_count": 5,
     "metadata": {},
     "output_type": "execute_result"
    }
   ],
   "source": [
    "print(str((time.time() - start)))\n",
    "summary_df"
   ]
  },
  {
   "cell_type": "code",
   "execution_count": 6,
   "metadata": {},
   "outputs": [
    {
     "data": {
      "text/html": [
       "<div>\n",
       "<style scoped>\n",
       "    .dataframe tbody tr th:only-of-type {\n",
       "        vertical-align: middle;\n",
       "    }\n",
       "\n",
       "    .dataframe tbody tr th {\n",
       "        vertical-align: top;\n",
       "    }\n",
       "\n",
       "    .dataframe thead th {\n",
       "        text-align: right;\n",
       "    }\n",
       "</style>\n",
       "<table border=\"1\" class=\"dataframe\">\n",
       "  <thead>\n",
       "    <tr style=\"text-align: right;\">\n",
       "      <th></th>\n",
       "      <th>Key_Matched</th>\n",
       "      <th>Key_Mismatch</th>\n",
       "      <th>Actual</th>\n",
       "      <th>Expected</th>\n",
       "    </tr>\n",
       "  </thead>\n",
       "  <tbody>\n",
       "    <tr>\n",
       "      <th>0</th>\n",
       "      <td>500000</td>\n",
       "      <td>0</td>\n",
       "      <td>0</td>\n",
       "      <td>0</td>\n",
       "    </tr>\n",
       "  </tbody>\n",
       "</table>\n",
       "</div>"
      ],
      "text/plain": [
       "  Key_Matched Key_Mismatch Actual Expected\n",
       "0      500000            0      0        0"
      ]
     },
     "execution_count": 6,
     "metadata": {},
     "output_type": "execute_result"
    }
   ],
   "source": [
    "summary_key_df"
   ]
  },
  {
   "cell_type": "code",
   "execution_count": 7,
   "metadata": {},
   "outputs": [
    {
     "data": {
      "text/html": [
       "<div>\n",
       "<style scoped>\n",
       "    .dataframe tbody tr th:only-of-type {\n",
       "        vertical-align: middle;\n",
       "    }\n",
       "\n",
       "    .dataframe tbody tr th {\n",
       "        vertical-align: top;\n",
       "    }\n",
       "\n",
       "    .dataframe thead th {\n",
       "        text-align: right;\n",
       "    }\n",
       "</style>\n",
       "<table border=\"1\" class=\"dataframe\">\n",
       "  <thead>\n",
       "    <tr style=\"text-align: right;\">\n",
       "      <th></th>\n",
       "      <th></th>\n",
       "      <th></th>\n",
       "      <th></th>\n",
       "      <th></th>\n",
       "      <th></th>\n",
       "      <th>Order ID_x</th>\n",
       "      <th>Ship Date_x</th>\n",
       "      <th>Units Sold_x</th>\n",
       "      <th>Unit Price_x</th>\n",
       "      <th>Unit Cost_x</th>\n",
       "      <th>Total Revenue_x</th>\n",
       "      <th>Total Cost_x</th>\n",
       "      <th>Total Profit_x</th>\n",
       "      <th>Order ID_y</th>\n",
       "      <th>Ship Date_y</th>\n",
       "      <th>Units Sold_y</th>\n",
       "      <th>Unit Price_y</th>\n",
       "      <th>Unit Cost_y</th>\n",
       "      <th>Total Revenue_y</th>\n",
       "      <th>Total Cost_y</th>\n",
       "      <th>Total Profit_y</th>\n",
       "      <th>source</th>\n",
       "    </tr>\n",
       "    <tr>\n",
       "      <th>Region</th>\n",
       "      <th>Country</th>\n",
       "      <th>Item Type</th>\n",
       "      <th>Sales Channel</th>\n",
       "      <th>Order Priority</th>\n",
       "      <th>Order Date</th>\n",
       "      <th></th>\n",
       "      <th></th>\n",
       "      <th></th>\n",
       "      <th></th>\n",
       "      <th></th>\n",
       "      <th></th>\n",
       "      <th></th>\n",
       "      <th></th>\n",
       "      <th></th>\n",
       "      <th></th>\n",
       "      <th></th>\n",
       "      <th></th>\n",
       "      <th></th>\n",
       "      <th></th>\n",
       "      <th></th>\n",
       "      <th></th>\n",
       "      <th></th>\n",
       "    </tr>\n",
       "  </thead>\n",
       "  <tbody>\n",
       "  </tbody>\n",
       "</table>\n",
       "</div>"
      ],
      "text/plain": [
       "Empty DataFrame\n",
       "Columns: [Order ID_x, Ship Date_x, Units Sold_x, Unit Price_x, Unit Cost_x, Total Revenue_x, Total Cost_x, Total Profit_x, Order ID_y, Ship Date_y, Units Sold_y, Unit Price_y, Unit Cost_y, Total Revenue_y, Total Cost_y, Total Profit_y, source]\n",
       "Index: []"
      ]
     },
     "execution_count": 7,
     "metadata": {},
     "output_type": "execute_result"
    }
   ],
   "source": [
    "key_mismatche_df"
   ]
  },
  {
   "cell_type": "code",
   "execution_count": 8,
   "metadata": {},
   "outputs": [
    {
     "data": {
      "text/html": [
       "<div>\n",
       "<style scoped>\n",
       "    .dataframe tbody tr th:only-of-type {\n",
       "        vertical-align: middle;\n",
       "    }\n",
       "\n",
       "    .dataframe tbody tr th {\n",
       "        vertical-align: top;\n",
       "    }\n",
       "\n",
       "    .dataframe thead th {\n",
       "        text-align: right;\n",
       "    }\n",
       "</style>\n",
       "<table border=\"1\" class=\"dataframe\">\n",
       "  <thead>\n",
       "    <tr style=\"text-align: right;\">\n",
       "      <th></th>\n",
       "      <th></th>\n",
       "      <th></th>\n",
       "      <th></th>\n",
       "      <th></th>\n",
       "      <th></th>\n",
       "      <th></th>\n",
       "      <th>Expected_Data</th>\n",
       "      <th>Actual_Data</th>\n",
       "    </tr>\n",
       "    <tr>\n",
       "      <th>Region</th>\n",
       "      <th>Country</th>\n",
       "      <th>Item Type</th>\n",
       "      <th>Sales Channel</th>\n",
       "      <th>Order Priority</th>\n",
       "      <th>Order Date</th>\n",
       "      <th>Mismatch_Column</th>\n",
       "      <th></th>\n",
       "      <th></th>\n",
       "    </tr>\n",
       "  </thead>\n",
       "  <tbody>\n",
       "    <tr>\n",
       "      <th rowspan=\"6\" valign=\"top\">Sub-Saharan Africa</th>\n",
       "      <th rowspan=\"6\" valign=\"top\">South Africa</th>\n",
       "      <th rowspan=\"6\" valign=\"top\">Fruits</th>\n",
       "      <th rowspan=\"6\" valign=\"top\">Offline</th>\n",
       "      <th rowspan=\"6\" valign=\"top\">M</th>\n",
       "      <th rowspan=\"6\" valign=\"top\">7/27/2012</th>\n",
       "      <th>Units Sold</th>\n",
       "      <td>1593</td>\n",
       "      <td>1533</td>\n",
       "    </tr>\n",
       "    <tr>\n",
       "      <th>Unit Price</th>\n",
       "      <td>9.33</td>\n",
       "      <td>9.43</td>\n",
       "    </tr>\n",
       "    <tr>\n",
       "      <th>Unit Cost</th>\n",
       "      <td>6.92</td>\n",
       "      <td></td>\n",
       "    </tr>\n",
       "    <tr>\n",
       "      <th>Total Revenue</th>\n",
       "      <td>14862.69</td>\n",
       "      <td>14462.69</td>\n",
       "    </tr>\n",
       "    <tr>\n",
       "      <th>Total Cost</th>\n",
       "      <td>11023.56</td>\n",
       "      <td>1023.56</td>\n",
       "    </tr>\n",
       "    <tr>\n",
       "      <th>Total Profit</th>\n",
       "      <td>3839.13</td>\n",
       "      <td>339.13</td>\n",
       "    </tr>\n",
       "  </tbody>\n",
       "</table>\n",
       "</div>"
      ],
      "text/plain": [
       "                                                                                                  Expected_Data  \\\n",
       "Region             Country      Item Type Sales Channel Order Priority Order Date Mismatch_Column                 \n",
       "Sub-Saharan Africa South Africa Fruits    Offline       M              7/27/2012  Units Sold               1593   \n",
       "                                                                                  Unit Price               9.33   \n",
       "                                                                                  Unit Cost                6.92   \n",
       "                                                                                  Total Revenue        14862.69   \n",
       "                                                                                  Total Cost           11023.56   \n",
       "                                                                                  Total Profit          3839.13   \n",
       "\n",
       "                                                                                                  Actual_Data  \n",
       "Region             Country      Item Type Sales Channel Order Priority Order Date Mismatch_Column              \n",
       "Sub-Saharan Africa South Africa Fruits    Offline       M              7/27/2012  Units Sold             1533  \n",
       "                                                                                  Unit Price             9.43  \n",
       "                                                                                  Unit Cost                    \n",
       "                                                                                  Total Revenue      14462.69  \n",
       "                                                                                  Total Cost          1023.56  \n",
       "                                                                                  Total Profit         339.13  "
      ]
     },
     "execution_count": 8,
     "metadata": {},
     "output_type": "execute_result"
    }
   ],
   "source": [
    "cell_cmp_df"
   ]
  },
  {
   "cell_type": "code",
   "execution_count": null,
   "metadata": {},
   "outputs": [],
   "source": []
  }
 ],
 "metadata": {
  "kernelspec": {
   "display_name": "Python 3",
   "language": "python",
   "name": "python3"
  },
  "language_info": {
   "codemirror_mode": {
    "name": "ipython",
    "version": 3
   },
   "file_extension": ".py",
   "mimetype": "text/x-python",
   "name": "python",
   "nbconvert_exporter": "python",
   "pygments_lexer": "ipython3",
   "version": "3.8.2"
  }
 },
 "nbformat": 4,
 "nbformat_minor": 4
}
